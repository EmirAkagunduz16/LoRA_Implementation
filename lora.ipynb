{
 "cells": [
  {
   "cell_type": "markdown",
   "metadata": {},
   "source": [
    "# LoRA Implementation with PyTorch"
   ]
  },
  {
   "cell_type": "code",
   "execution_count": 1,
   "metadata": {},
   "outputs": [],
   "source": [
    "import torch\n",
    "import torchvision.datasets as datasets\n",
    "from torchvision.transforms import transforms\n",
    "import torch.nn as nn\n",
    "import matplotlib.pyplot as plt\n",
    "from tqdm import tqdm"
   ]
  },
  {
   "cell_type": "code",
   "execution_count": 2,
   "metadata": {},
   "outputs": [],
   "source": [
    "_ = torch.manual_seed(0)"
   ]
  },
  {
   "cell_type": "code",
   "execution_count": 3,
   "metadata": {},
   "outputs": [],
   "source": [
    "# We will be training a network to classify MNIST digits and then fine-tune the network on a particular digit on which it doesn't perform well.\n",
    "\n",
    "transform = transforms.Compose([transforms.ToTensor(), transforms.Normalize((0.1307, ), (0.3081, ))])\n",
    "\n",
    "# Load the MNIST Dataset\n",
    "mnist_trainset = datasets.MNIST(root='./data', train=True, download=True, transform=transform)\n",
    "# Create the DataLoader for training \n",
    "train_loader = torch.utils.data.DataLoader(mnist_trainset, batch_size=10, shuffle=True)\n",
    "\n",
    "# Load the MNIST test set\n",
    "mnist_testset = datasets.MNIST(root='./data', train=False, download=True, transform=transform)\n",
    "test_loader = torch.utils.data.DataLoader(mnist_testset, batch_size=10, shuffle=True)\n",
    "\n",
    "# define the device\n",
    "device = torch.device('cuda:0' if torch.cuda.is_available() else 'cpu')"
   ]
  },
  {
   "cell_type": "code",
   "execution_count": 4,
   "metadata": {},
   "outputs": [],
   "source": [
    "# Create the Neural Network to classify the digits, making it overly complicated to better show the power of LoRA\n",
    "\n",
    "# create an overly expensive neural network to classify MNIST digits\n",
    "\n",
    "class RichBoyNet(nn.Module):\n",
    "  \n",
    "  def __init__(self, hidden_size_1=1000, hidden_size_2=2000):\n",
    "    super(RichBoyNet, self).__init__()\n",
    "    self.linear_1 = nn.Linear(28*28, hidden_size_1)\n",
    "    self.linear_2 = nn.Linear(hidden_size_1, hidden_size_2)\n",
    "    self.linear_3 = nn.Linear(hidden_size_2, 10)\n",
    "    self.relu = nn.ReLU()\n",
    "  \n",
    "  def forward(self, img):\n",
    "    x = img.view(-1, 28*28)\n",
    "    x = self.relu(self.linear_1(x))\n",
    "    x = self.relu(self.linear_2(x))\n",
    "    x = self.linear_3(x)\n",
    "    return x\n",
    "\n",
    "net = RichBoyNet().to(device) "
   ]
  },
  {
   "cell_type": "code",
   "execution_count": 5,
   "metadata": {},
   "outputs": [
    {
     "name": "stderr",
     "output_type": "stream",
     "text": [
      "Epoch 1: 100%|██████████| 6000/6000 [00:32<00:00, 184.61it/s, loss=0.237]\n"
     ]
    }
   ],
   "source": [
    "# Train the network only for 1 epoch to simulate a complete general pre-training on the data\n",
    "\n",
    "def train(train_loader, net, epochs=5, total_iterations_limit=None):\n",
    "  cross_el = nn.CrossEntropyLoss()\n",
    "  optimizer = torch.optim.Adam(net.parameters(), lr=0.001)\n",
    "  \n",
    "  total_iterations = 0\n",
    "  \n",
    "  for epoch in range(epochs):\n",
    "    net.train()\n",
    "    \n",
    "    loss_sum = 0\n",
    "    num_iterations = 0\n",
    "    \n",
    "    data_iterator = tqdm(train_loader, desc=f'Epoch {epoch+1}')\n",
    "    if total_iterations_limit is not None:\n",
    "      data_iterator.total = total_iterations_limit\n",
    "    for data in data_iterator:\n",
    "      num_iterations += 1\n",
    "      total_iterations += 1\n",
    "      x, y = data\n",
    "      x = x.to(device)\n",
    "      y = y.to(device)\n",
    "      optimizer.zero_grad()\n",
    "      output = net(x.view(-1, 28*28))\n",
    "      loss = cross_el(output, y)\n",
    "      loss_sum += loss.item()\n",
    "      avg_loss = loss_sum / num_iterations\n",
    "      data_iterator.set_postfix(loss=avg_loss)\n",
    "      loss.backward()\n",
    "      optimizer.step()\n",
    "      \n",
    "      if total_iterations_limit is not None and total_iterations >= total_iterations_limit:\n",
    "        return\n",
    "\n",
    "train(train_loader, net, epochs=1)"
   ]
  },
  {
   "cell_type": "code",
   "execution_count": 6,
   "metadata": {},
   "outputs": [],
   "source": [
    "# keep a copy of the original weights (cloning them) so later we can prove that a fine-tuning with LoRA doesn't alter the original weights\n",
    "\n",
    "original_weights = {}\n",
    "for name, param in net.named_parameters():\n",
    "  original_weights[name] = param.clone().detach()"
   ]
  },
  {
   "cell_type": "code",
   "execution_count": 7,
   "metadata": {},
   "outputs": [
    {
     "name": "stderr",
     "output_type": "stream",
     "text": [
      "Testing: 100%|██████████| 1000/1000 [00:03<00:00, 254.98it/s]"
     ]
    },
    {
     "name": "stdout",
     "output_type": "stream",
     "text": [
      "Accuracy: 0.959\n",
      "wrong counts for digit 0: 11\n",
      "wrong counts for digit 1: 11\n",
      "wrong counts for digit 2: 21\n",
      "wrong counts for digit 3: 76\n",
      "wrong counts for digit 4: 25\n",
      "wrong counts for digit 5: 46\n",
      "wrong counts for digit 6: 31\n",
      "wrong counts for digit 7: 33\n",
      "wrong counts for digit 8: 24\n",
      "wrong counts for digit 9: 137\n"
     ]
    },
    {
     "name": "stderr",
     "output_type": "stream",
     "text": [
      "\n"
     ]
    }
   ],
   "source": [
    "# the performance of the pretrained network. As we can see, the network performs poorly on the digit 9. Let's fine tune it on the digit 9\n",
    "\n",
    "def test():\n",
    "  correct = 0\n",
    "  total = 0\n",
    "  \n",
    "  wrong_counts = [0 for i in range(10)]\n",
    "  \n",
    "  with torch.no_grad():\n",
    "    for data in tqdm(test_loader, desc='Testing'):\n",
    "      x, y = data\n",
    "      x = x.to(device)\n",
    "      y = y.to(device)\n",
    "      output = net(x.view(-1, 784))\n",
    "      for idx, i in enumerate(output):\n",
    "        if torch.argmax(i) == y[idx]:\n",
    "          correct += 1\n",
    "        else:\n",
    "          wrong_counts[y[idx]] += 1\n",
    "        total += 1\n",
    "  \n",
    "  print(f'Accuracy: {round(correct/total, 3)}')\n",
    "  for i in range(len(wrong_counts)):\n",
    "    print(f'wrong counts for digit {i}: {wrong_counts[i]}')\n",
    "\n",
    "test()"
   ]
  },
  {
   "cell_type": "code",
   "execution_count": 8,
   "metadata": {},
   "outputs": [
    {
     "name": "stdout",
     "output_type": "stream",
     "text": [
      "Layer 1: W: torch.Size([1000, 784]) + B: torch.Size([1000])\n",
      "Layer 2: W: torch.Size([2000, 1000]) + B: torch.Size([2000])\n",
      "Layer 3: W: torch.Size([10, 2000]) + B: torch.Size([10])\n",
      "Total number of parameters: 2,807,010\n"
     ]
    }
   ],
   "source": [
    "# Let's visualize how many parameters are in the original network, before introducing LoRA matrices.\n",
    "# Print the size of the weights matrices of the network\n",
    "# Save the count of the total number of parameters\n",
    "\n",
    "total_parameters_original = 0\n",
    "for index, layer in enumerate([net.linear_1, net.linear_2, net.linear_3]):\n",
    "  total_parameters_original += layer.weight.nelement() + layer.bias.nelement()\n",
    "  print(f'Layer {index+1}: W: {layer.weight.shape} + B: {layer.bias.shape}')\n",
    "print(f'Total number of parameters: {total_parameters_original:,}')"
   ]
  },
  {
   "cell_type": "code",
   "execution_count": 9,
   "metadata": {},
   "outputs": [],
   "source": [
    "# Define the LoRA parameterization as described in the paper. The full detail on how PyTorch parameterizations work is here: \n",
    "# https://pytorch.org/tutorials/intermediate/parametrizations.html\n",
    "\n",
    "class LoRAParametrization(nn.Module):\n",
    "  def __init__(self, features_in, features_out, rank=1, alpha=1, device='cpu'):\n",
    "    super().__init__()\n",
    "    # Section 4.1 of the paper: \n",
    "    #   We use a random Gaussian initialization for A and zero for B, so ∆W = BA is zero at the beginning of training\n",
    "    self.lora_A = nn.Parameter(torch.zeros((rank,features_out)).to(device))\n",
    "    self.lora_B = nn.Parameter(torch.zeros((features_in, rank)).to(device))\n",
    "    nn.init.normal_(self.lora_A, mean=0, std=1)\n",
    "    \n",
    "    # Section 4.1 of the paper: \n",
    "    #   We then scale ∆Wx by α/r , where α is a constant in r. \n",
    "    #   When optimizing with Adam, tuning α is roughly the same as tuning the learning rate if we scale the initialization appropriately. \n",
    "    #   As a result, we simply set α to the first r we try and do not tune it. \n",
    "    #   This scaling helps to reduce the need to retune hyperparameters when we vary r.\n",
    "    self.scale = alpha / rank\n",
    "    self.enabled = True\n",
    "\n",
    "  def forward(self, original_weights):\n",
    "    if self.enabled:\n",
    "      # Return W + (B*A)*scale\n",
    "      return original_weights + torch.matmul(self.lora_B, self.lora_A).view(original_weights.shape) * self.scale\n",
    "    else:\n",
    "      return original_weights"
   ]
  },
  {
   "cell_type": "code",
   "execution_count": 10,
   "metadata": {},
   "outputs": [],
   "source": [
    "# Add the parameterization to our network.\n",
    "\n",
    "import torch.nn.utils.parametrize as parametrize\n",
    "\n",
    "def linear_layer_parameterization(layer, device, rank=1, lora_alpha=1):\n",
    "  # Only add the parameterization to the weight matrix, ignore the Bias\n",
    "\n",
    "  # From section 4.2 of the paper:\n",
    "  #   We limit our study to only adapting the attention weights for downstream tasks and freeze the MLP modules (so they are not trained in downstream tasks) both for simplicity and parameter-efficiency.\n",
    "  #   [...]\n",
    "  #   We leave the empirical investigation of [...], and biases to a future work.\n",
    "  \n",
    "  features_in, features_out = layer.weight.shape\n",
    "  return LoRAParametrization(\n",
    "      features_in, features_out, rank=rank, alpha=lora_alpha, device=device\n",
    "  )\n",
    "\n",
    "parametrize.register_parametrization(\n",
    "    net.linear_1, \"weight\", linear_layer_parameterization(net.linear_1, device)\n",
    ")\n",
    "parametrize.register_parametrization(\n",
    "    net.linear_2, \"weight\", linear_layer_parameterization(net.linear_2, device)\n",
    ")\n",
    "parametrize.register_parametrization(\n",
    "    net.linear_3, \"weight\", linear_layer_parameterization(net.linear_3, device)\n",
    ")\n",
    "\n",
    "\n",
    "def enable_disable_lora(enabled=True):\n",
    "    for layer in [net.linear_1, net.linear_2, net.linear_3]:\n",
    "        layer.parametrizations[\"weight\"][0].enabled = enabled"
   ]
  },
  {
   "cell_type": "code",
   "execution_count": 11,
   "metadata": {},
   "outputs": [
    {
     "name": "stdout",
     "output_type": "stream",
     "text": [
      "Layer 1: W: torch.Size([1000, 784]) + B: torch.Size([1000]) + Lora_A: torch.Size([1, 784]) + Lora_B: torch.Size([1000, 1])\n",
      "Layer 2: W: torch.Size([2000, 1000]) + B: torch.Size([2000]) + Lora_A: torch.Size([1, 1000]) + Lora_B: torch.Size([2000, 1])\n",
      "Layer 3: W: torch.Size([10, 2000]) + B: torch.Size([10]) + Lora_A: torch.Size([1, 2000]) + Lora_B: torch.Size([10, 1])\n",
      "Total number of parameters (original): 2,807,010\n",
      "Total number of parameters (original + LoRA): 2,813,804\n",
      "Parameters introduced by LoRA: 6,794\n",
      "Parameters incremment: 0.242%\n"
     ]
    }
   ],
   "source": [
    "# Display the number of parameters added by LoRA.\n",
    "\n",
    "total_parameters_lora = 0\n",
    "total_parameters_non_lora = 0\n",
    "for index, layer in enumerate([net.linear_1, net.linear_2, net.linear_3]):\n",
    "    total_parameters_lora += layer.parametrizations[\"weight\"][0].lora_A.nelement() + layer.parametrizations[\"weight\"][0].lora_B.nelement()\n",
    "    total_parameters_non_lora += layer.weight.nelement() + layer.bias.nelement()\n",
    "    print(\n",
    "        f'Layer {index+1}: W: {layer.weight.shape} + B: {layer.bias.shape} + Lora_A: {layer.parametrizations[\"weight\"][0].lora_A.shape} + Lora_B: {layer.parametrizations[\"weight\"][0].lora_B.shape}'\n",
    "    )\n",
    "# The non-LoRA parameters count must match the original network\n",
    "assert total_parameters_non_lora == total_parameters_original\n",
    "print(f'Total number of parameters (original): {total_parameters_non_lora:,}')\n",
    "print(f'Total number of parameters (original + LoRA): {total_parameters_lora + total_parameters_non_lora:,}')\n",
    "print(f'Parameters introduced by LoRA: {total_parameters_lora:,}')\n",
    "parameters_incremment = (total_parameters_lora / total_parameters_non_lora) * 100\n",
    "print(f'Parameters incremment: {parameters_incremment:.3f}%')"
   ]
  },
  {
   "cell_type": "code",
   "execution_count": 12,
   "metadata": {},
   "outputs": [
    {
     "name": "stdout",
     "output_type": "stream",
     "text": [
      "Freezing non-LoRA parameter linear_1.bias\n",
      "Freezing non-LoRA parameter linear_1.parametrizations.weight.original\n",
      "Freezing non-LoRA parameter linear_2.bias\n",
      "Freezing non-LoRA parameter linear_2.parametrizations.weight.original\n",
      "Freezing non-LoRA parameter linear_3.bias\n",
      "Freezing non-LoRA parameter linear_3.parametrizations.weight.original\n"
     ]
    },
    {
     "name": "stderr",
     "output_type": "stream",
     "text": [
      "Epoch 1:  99%|█████████▉| 99/100 [00:00<00:00, 126.35it/s, loss=0.0803]\n"
     ]
    }
   ],
   "source": [
    "# Freeze all the parameters of the original network and only fine tuning the ones introduced by LoRA. \n",
    "# Then fine-tune the model on the digit 9 and only for 100 batches.\n",
    "\n",
    "# Freeze the non-Lora parameters\n",
    "for name, param in net.named_parameters():\n",
    "  if 'lora' not in name:\n",
    "    print(f'Freezing non-LoRA parameter {name}')\n",
    "    param.requires_grad = False\n",
    "\n",
    "# Load the MNIST dataset again, by keeping only the digit 9\n",
    "mnist_trainset = datasets.MNIST(root='./data', train=True, download=True, transform=transform)\n",
    "exclude_indices = mnist_trainset.targets == 9\n",
    "mnist_trainset.data = mnist_trainset.data[exclude_indices]\n",
    "mnist_trainset.targets = mnist_trainset.targets[exclude_indices]\n",
    "# Create a dataloader for the training\n",
    "train_loader = torch.utils.data.DataLoader(mnist_trainset, batch_size=10, shuffle=True)\n",
    "\n",
    "# Train the network with LoRA only on the digit 9 and only for 100 batches (hoping that it would improve the performance on the digit 9)\n",
    "train(train_loader, net, epochs=1, total_iterations_limit=100)"
   ]
  },
  {
   "cell_type": "code",
   "execution_count": 13,
   "metadata": {},
   "outputs": [],
   "source": [
    "# Verify that the fine-tuning didn't alter the original weights, but only the ones introduced by LoRA.\n",
    "\n",
    "# Check that the frozen parameters are still unchanged by the finetuning\n",
    "assert torch.all(net.linear_1.parametrizations.weight.original == original_weights['linear_1.weight'])\n",
    "assert torch.all(net.linear_2.parametrizations.weight.original == original_weights['linear_2.weight'])\n",
    "assert torch.all(net.linear_3.parametrizations.weight.original == original_weights['linear_3.weight'])\n",
    "\n",
    "enable_disable_lora(enabled=True)\n",
    "# The new linear1.weight is obtained by the \"forward\" function of our LoRA parametrization\n",
    "# The original weights have been moved to net.linear1.parametrizations.weight.original\n",
    "# More info here: https://pytorch.org/tutorials/intermediate/parametrizations.html#inspecting-a-parametrized-module\n",
    "assert torch.equal(net.linear_1.weight, net.linear_1.parametrizations.weight.original + (net.linear_1.parametrizations.weight[0].lora_B @ net.linear_1.parametrizations.weight[0].lora_A) * net.linear_1.parametrizations.weight[0].scale)\n",
    "\n",
    "enable_disable_lora(enabled=False)\n",
    "# If we disable LoRA, the linear_1.weight is the original one\n",
    "assert torch.equal(net.linear_1.weight, original_weights['linear_1.weight'])"
   ]
  },
  {
   "cell_type": "code",
   "execution_count": 14,
   "metadata": {},
   "outputs": [
    {
     "name": "stderr",
     "output_type": "stream",
     "text": [
      "Testing: 100%|██████████| 1000/1000 [00:04<00:00, 206.74it/s]"
     ]
    },
    {
     "name": "stdout",
     "output_type": "stream",
     "text": [
      "Accuracy: 0.88\n",
      "wrong counts for digit 0: 12\n",
      "wrong counts for digit 1: 14\n",
      "wrong counts for digit 2: 37\n",
      "wrong counts for digit 3: 249\n",
      "wrong counts for digit 4: 229\n",
      "wrong counts for digit 5: 97\n",
      "wrong counts for digit 6: 28\n",
      "wrong counts for digit 7: 341\n",
      "wrong counts for digit 8: 180\n",
      "wrong counts for digit 9: 8\n"
     ]
    },
    {
     "name": "stderr",
     "output_type": "stream",
     "text": [
      "\n"
     ]
    }
   ],
   "source": [
    "# Test the network with LoRA enabled (the digit 9 should be classified better)\n",
    "# Test with LoRA enabled\n",
    "enable_disable_lora(enabled=True)\n",
    "test()"
   ]
  },
  {
   "cell_type": "code",
   "execution_count": 15,
   "metadata": {},
   "outputs": [
    {
     "name": "stderr",
     "output_type": "stream",
     "text": [
      "Testing: 100%|██████████| 1000/1000 [00:04<00:00, 214.70it/s]"
     ]
    },
    {
     "name": "stdout",
     "output_type": "stream",
     "text": [
      "Accuracy: 0.959\n",
      "wrong counts for digit 0: 11\n",
      "wrong counts for digit 1: 11\n",
      "wrong counts for digit 2: 21\n",
      "wrong counts for digit 3: 76\n",
      "wrong counts for digit 4: 25\n",
      "wrong counts for digit 5: 46\n",
      "wrong counts for digit 6: 31\n",
      "wrong counts for digit 7: 33\n",
      "wrong counts for digit 8: 24\n",
      "wrong counts for digit 9: 137\n"
     ]
    },
    {
     "name": "stderr",
     "output_type": "stream",
     "text": [
      "\n"
     ]
    }
   ],
   "source": [
    "# Test the network with LoRA disabled (the accuracy and errors counts must be the same as the original network)\n",
    "\n",
    "# Test with LoRA disabled\n",
    "enable_disable_lora(enabled=False)\n",
    "test()"
   ]
  },
  {
   "cell_type": "code",
   "execution_count": null,
   "metadata": {},
   "outputs": [],
   "source": []
  }
 ],
 "metadata": {
  "kernelspec": {
   "display_name": "Python 3",
   "language": "python",
   "name": "python3"
  },
  "language_info": {
   "codemirror_mode": {
    "name": "ipython",
    "version": 3
   },
   "file_extension": ".py",
   "mimetype": "text/x-python",
   "name": "python",
   "nbconvert_exporter": "python",
   "pygments_lexer": "ipython3",
   "version": "3.9.13"
  }
 },
 "nbformat": 4,
 "nbformat_minor": 2
}
